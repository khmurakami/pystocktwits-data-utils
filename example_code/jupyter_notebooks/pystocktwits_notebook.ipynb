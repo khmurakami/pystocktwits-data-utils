{
 "cells": [
  {
   "cell_type": "code",
   "execution_count": 2,
   "metadata": {},
   "outputs": [],
   "source": [
    "from pystocktwits import Streamer\n",
    "from pystocktwits.pystocktwits_parser import *\n",
    "\n",
    "import requests\n",
    "import json\n",
    "import csv\n",
    "import numpy as np\n",
    "import pandas as pd"
   ]
  },
  {
   "cell_type": "markdown",
   "metadata": {},
   "source": [
    "# Test Json Parser"
   ]
  },
  {
   "cell_type": "code",
   "execution_count": 4,
   "metadata": {},
   "outputs": [
    {
     "name": "stdout",
     "output_type": "stream",
     "text": [
      "          5 Must-See Stock Charts for Monday: http://bit.ly/2MNLn0F $AMZN $GE $HON $ACB $CVX  \\\n",
      "sentiment                                               None                                   \n",
      "\n",
      "          $AMZN follow my 500 to 100k chalange trading options on Instagram at brooklyntrader9046  \n",
      "sentiment                                               None                                       \n"
     ]
    }
   ],
   "source": [
    "twit = Streamer()\n",
    "output = get_all_msgs_with_sentiment_by_symbol_id(\"AMZN\")\n",
    "test = dict_to_dataframe(output)\n",
    "print(test)\n",
    "\n"
   ]
  },
  {
   "cell_type": "code",
   "execution_count": null,
   "metadata": {},
   "outputs": [],
   "source": []
  }
 ],
 "metadata": {
  "kernelspec": {
   "display_name": "Python 3",
   "language": "python",
   "name": "python3"
  },
  "language_info": {
   "codemirror_mode": {
    "name": "ipython",
    "version": 3
   },
   "file_extension": ".py",
   "mimetype": "text/x-python",
   "name": "python",
   "nbconvert_exporter": "python",
   "pygments_lexer": "ipython3",
   "version": "3.6.4"
  }
 },
 "nbformat": 4,
 "nbformat_minor": 2
}
