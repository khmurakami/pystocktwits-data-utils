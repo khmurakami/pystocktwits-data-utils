{
 "cells": [
  {
   "cell_type": "code",
   "execution_count": 12,
   "metadata": {},
   "outputs": [],
   "source": [
    "from pystocktwits import Streamer\n",
    "from pystocktwits_data_utils import *\n",
    "from textblob import TextBlob\n",
    "\n",
    "\n",
    "\n",
    "import requests\n",
    "import json\n",
    "import csv\n",
    "import numpy as np\n",
    "import pandas as pd\n",
    "import time"
   ]
  },
  {
   "cell_type": "markdown",
   "metadata": {},
   "source": [
    "# Test Json Parser"
   ]
  },
  {
   "cell_type": "code",
   "execution_count": 14,
   "metadata": {},
   "outputs": [
    {
     "name": "stdout",
     "output_type": "stream",
     "text": [
      "                                                 msg sentiment  \\\n",
      "0  I concur. Am short $SPY $AAPL $SBUX and long s...      None   \n",
      "\n",
      "   twitter_sentiment  \n",
      "0               0.05  \n"
     ]
    }
   ],
   "source": [
    "twit = Streamer()\n",
    "list_of_msgs, list_of_sentiment_json = get_all_msgs_with_sentiment_by_symbol_id(\"AAPL\")\n",
    "\n",
    "\n",
    "def extract_sentiment_statements(list_of_sentiment_json):\n",
    "    example = []\n",
    "    for i in list_of_sentiment_json:\n",
    "        if i['sentiment'] is None:\n",
    "            example.append(i['sentiment'])\n",
    "        elif i is not None and i['sentiment'] is not None:\n",
    "            example.append(i['sentiment']['basic'])\n",
    "    return example\n",
    "        \n",
    "def textblob_simple_sentiment(msg):\n",
    "    textblob_sentiment = TextBlob(msg)\n",
    "    test = textblob_sentiment.sentiment.polarity\n",
    "    return test\n",
    "\n",
    "def textblob_sentiment_list(list):\n",
    "    twitter_sentiment = []\n",
    "    for i in list_of_msgs:\n",
    "        twitter_sentiment.append(textblob_simple_sentiment(i))\n",
    "    return twitter_sentiment\n",
    "    \n",
    "list_of_twitter_sentiment = textblob_sentiment_list(list_of_msgs)\n",
    "    \n",
    "list_of_sentiment = extract_sentiment_statements(list_of_sentiment_json)\n",
    "\n",
    "\n",
    "dataframe = pd.DataFrame(\n",
    "    {'msg': list_of_msgs,\n",
    "     'sentiment': list_of_sentiment,\n",
    "      'twitter_sentiment': list_of_twitter_sentiment\n",
    "    })\n",
    "\n",
    "print(dataframe)\n",
    "dataframe.to_csv('pystockdataset_with_twitter_sentiment.csv')"
   ]
  },
  {
   "cell_type": "code",
   "execution_count": 18,
   "metadata": {},
   "outputs": [
    {
     "name": "stdout",
     "output_type": "stream",
     "text": [
      "['I concur. Am short $SPY $AAPL $SBUX and long some small caps. Mostly cash.', None, 0.05]\n",
      "['I concur. Am short $SPY $AAPL $SBUX and long some small caps. Mostly cash.', None, 0.05]\n",
      "['I concur. Am short $SPY $AAPL $SBUX and long some small caps. Mostly cash.', None, 0.05]\n",
      "['I concur. Am short $SPY $AAPL $SBUX and long some small caps. Mostly cash.', None, 0.05]\n",
      "['I concur. Am short $SPY $AAPL $SBUX and long some small caps. Mostly cash.', None, 0.05]\n"
     ]
    },
    {
     "ename": "KeyboardInterrupt",
     "evalue": "",
     "output_type": "error",
     "traceback": [
      "\u001b[0;31m---------------------------------------------------------------------------\u001b[0m",
      "\u001b[0;31mKeyboardInterrupt\u001b[0m                         Traceback (most recent call last)",
      "\u001b[0;32m<ipython-input-18-91924bad5939>\u001b[0m in \u001b[0;36m<module>\u001b[0;34m\u001b[0m\n\u001b[1;32m     24\u001b[0m                 \u001b[0mwriter\u001b[0m\u001b[0;34m.\u001b[0m\u001b[0mwriterow\u001b[0m\u001b[0;34m(\u001b[0m\u001b[0mrow\u001b[0m\u001b[0;34m)\u001b[0m\u001b[0;34m\u001b[0m\u001b[0m\n\u001b[1;32m     25\u001b[0m \u001b[0;34m\u001b[0m\u001b[0m\n\u001b[0;32m---> 26\u001b[0;31m \u001b[0mstocktwit_csv_create\u001b[0m\u001b[0;34m(\u001b[0m\u001b[0;34m'test.csv'\u001b[0m\u001b[0;34m,\u001b[0m \u001b[0;34m'AaPL'\u001b[0m\u001b[0;34m,\u001b[0m \u001b[0;36m10\u001b[0m\u001b[0;34m,\u001b[0m \u001b[0;36m3\u001b[0m\u001b[0;34m)\u001b[0m\u001b[0;34m\u001b[0m\u001b[0m\n\u001b[0m\u001b[1;32m     27\u001b[0m \u001b[0;34m\u001b[0m\u001b[0m\n",
      "\u001b[0;32m<ipython-input-18-91924bad5939>\u001b[0m in \u001b[0;36mstocktwit_csv_create\u001b[0;34m(csv_name, company_id, msg_range, time_delay)\u001b[0m\n\u001b[1;32m     12\u001b[0m \u001b[0;34m\u001b[0m\u001b[0m\n\u001b[1;32m     13\u001b[0m     \u001b[0;32mfor\u001b[0m \u001b[0mi\u001b[0m \u001b[0;32min\u001b[0m \u001b[0mrange\u001b[0m\u001b[0;34m(\u001b[0m\u001b[0;36m0\u001b[0m\u001b[0;34m,\u001b[0m \u001b[0mmsg_range\u001b[0m\u001b[0;34m)\u001b[0m\u001b[0;34m:\u001b[0m\u001b[0;34m\u001b[0m\u001b[0m\n\u001b[0;32m---> 14\u001b[0;31m         \u001b[0mtime\u001b[0m\u001b[0;34m.\u001b[0m\u001b[0msleep\u001b[0m\u001b[0;34m(\u001b[0m\u001b[0mtime_delay\u001b[0m\u001b[0;34m)\u001b[0m\u001b[0;34m\u001b[0m\u001b[0m\n\u001b[0m\u001b[1;32m     15\u001b[0m         \u001b[0mlist_of_msgs\u001b[0m\u001b[0;34m,\u001b[0m \u001b[0mlist_of_sentiment_json\u001b[0m \u001b[0;34m=\u001b[0m \u001b[0mget_all_msgs_with_sentiment_by_symbol_id\u001b[0m\u001b[0;34m(\u001b[0m\u001b[0mcompany_id\u001b[0m\u001b[0;34m)\u001b[0m\u001b[0;34m\u001b[0m\u001b[0m\n\u001b[1;32m     16\u001b[0m         \u001b[0mlist_of_twitter_sentiment\u001b[0m \u001b[0;34m=\u001b[0m \u001b[0mtextblob_sentiment_list\u001b[0m\u001b[0;34m(\u001b[0m\u001b[0mlist_of_msgs\u001b[0m\u001b[0;34m)\u001b[0m\u001b[0;34m\u001b[0m\u001b[0m\n",
      "\u001b[0;31mKeyboardInterrupt\u001b[0m: "
     ]
    }
   ],
   "source": [
    "dataframe = pd.DataFrame(\n",
    "    {'msg': list_of_msgs,\n",
    "     'sentiment': list_of_sentiment,\n",
    "      'twitter_sentiment': list_of_twitter_sentiment\n",
    "    })\n",
    "\n",
    "def stocktwit_csv_create(csv_name, company_id, msg_range, time_delay, header_names):\n",
    "    csv_name = str(csv_name)\n",
    "    company_id = str(company_id)\n",
    "    with open(csv_name, 'w') as f:\n",
    "\t    f.write(\"msgs, stock_sentiment, twitter_senitment \\n\")\n",
    "\n",
    "    for i in range(0, msg_range):\n",
    "        time.sleep(time_delay)\n",
    "        list_of_msgs, list_of_sentiment_json = get_all_msgs_with_sentiment_by_symbol_id(company_id)\n",
    "        list_of_twitter_sentiment = textblob_sentiment_list(list_of_msgs)\n",
    "        list_of_sentiment = extract_sentiment_statements(list_of_sentiment_json)\n",
    "        with open(csv_name, 'a', newline='') as f:\n",
    "            writer=csv.writer(f)\n",
    "            data = list(zip(list_of_msgs, list_of_sentiment, list_of_twitter_sentiment))\n",
    "            for row in data:\n",
    "                row = list(row)\n",
    "                print(row)\n",
    "                writer.writerow(row)\n",
    "\n",
    "stocktwit_csv_create('test.csv', 'AAPL', 10, 3)\n",
    "        "
   ]
  },
  {
   "cell_type": "code",
   "execution_count": null,
   "metadata": {},
   "outputs": [],
   "source": []
  }
 ],
 "metadata": {
  "kernelspec": {
   "display_name": "Python 3",
   "language": "python",
   "name": "python3"
  },
  "language_info": {
   "codemirror_mode": {
    "name": "ipython",
    "version": 3
   },
   "file_extension": ".py",
   "mimetype": "text/x-python",
   "name": "python",
   "nbconvert_exporter": "python",
   "pygments_lexer": "ipython3",
   "version": "3.6.4"
  }
 },
 "nbformat": 4,
 "nbformat_minor": 2
}
