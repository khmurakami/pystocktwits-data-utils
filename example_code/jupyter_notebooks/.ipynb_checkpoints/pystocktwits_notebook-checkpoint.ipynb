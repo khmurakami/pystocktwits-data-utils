{
 "cells": [
  {
   "cell_type": "code",
   "execution_count": 1,
   "metadata": {},
   "outputs": [],
   "source": [
    "from pystocktwits import Streamer\n",
    "from pystocktwits_data_utils import *\n",
    "\n",
    "import requests\n",
    "import json\n",
    "import csv\n",
    "import numpy as np\n",
    "import pandas as pd"
   ]
  },
  {
   "cell_type": "markdown",
   "metadata": {},
   "source": [
    "# Test Json Parser"
   ]
  },
  {
   "cell_type": "code",
   "execution_count": 4,
   "metadata": {},
   "outputs": [
    {
     "name": "stdout",
     "output_type": "stream",
     "text": [
      "                                                  msg sentiment\n",
      "0   $COUP, $VEEV and $IRT are amongst the stronges...      None\n",
      "1   $VEEV I kept trying to short this but I&#39;ve...   Bullish\n",
      "2   $VEEV  Almost bullish engulfing , bull flag. l...      None\n",
      "3   #Update(17)  $VEEV Feb-15 105 Calls Up +206%. ...   Bullish\n",
      "4   $VEEV that was the 110 bounce I called for but...   Bullish\n",
      "5   $TWLO $VEEV $HUBS $OKTA $ZEN  all green .. .. ...      None\n",
      "6   $TWLO $VEEV Go back below $100 I say you where...      None\n",
      "7                      $VEEV break 111 we goin to 105      None\n",
      "8   $VEEV remember  IBD #1 stock. They have 8%stop...   Bearish\n",
      "9   $VEEV Monthly performance of the setups posted...   Bullish\n",
      "10  $VEEV estimates distribution - here’s what 4 E...      None\n",
      "11  $VEEV they always go back to the 21 before ear...      None\n",
      "12  $VEEV analysts on Estimize are expecting 23.64...      None\n",
      "13  #Update(1)  $VEEV Feb-15 115 Calls Down -43%. ...   Bullish\n",
      "14  $VEEV, $LLY and $MDB. Strong technicals stocks...      None\n",
      "15  Here’s what 3 Estimize analysts believe $VEEV ...      None\n",
      "16  Artisan Partners Asset Management Inc. just pr...      None\n",
      "17  Artisan Partners Limited Partnership has filed...      None\n",
      "18  $VEEV 2.0m ago: SEC Amended Beneficial Ownersh...      None\n",
      "19      $VEEV Last two months 27 winners and 3 losers   Bullish\n",
      "20  Veeva Systems (VEEV) to release earnings after...      None\n",
      "21                   $VEEV 5D support. @simpletrader1   Bullish\n",
      "22  $XLNX, $VEEV and $PAYC making a new 52 week hi...      None\n",
      "23  BlackRock, Inc. just provided an update on sha...      None\n",
      "24  BlackRock Inc. has filed an amended 13G/A, rep...      None\n",
      "25  $VEEV 15.6m ago: SEC Amended Beneficial Owners...      None\n",
      "26  Check out this article! $AOFAX $FIVE $VEEV $AB...      None\n",
      "27  $VEEV analysts on Estimize expect 22.08% YoY g...      None\n",
      "28  $VEEV $HUBS $TEAM  .. all green . dips got bot...      None\n",
      "29  $VEEV analysts on Estimize are expecting 77.86...      None\n"
     ]
    }
   ],
   "source": [
    "twit = Streamer()\n",
    "list_of_msgs, list_of_sentiment_json = get_all_msgs_with_sentiment_by_symbol_id(\"VEEV\")\n",
    "\n",
    "\n",
    "def extract_sentiment_statements(list_of_sentiment_json):\n",
    "    example = []\n",
    "    for i in list_of_sentiment_json:\n",
    "        if i['sentiment'] is None:\n",
    "            example.append(i['sentiment'])\n",
    "        elif i is not None and i['sentiment'] is not None:\n",
    "            example.append(i['sentiment']['basic'])\n",
    "    return example\n",
    "        \n",
    "list_of_sentiment = extract_sentiment_statements(list_of_sentiment_json)\n",
    "\n",
    "\n",
    "dataframe = pd.DataFrame(\n",
    "    {'msg': list_of_msgs,\n",
    "     'sentiment': list_of_sentiment\n",
    "    })\n",
    "\n",
    "print(dataframe)\n",
    "dataframe.to_csv('pystockdataset2.csv')"
   ]
  },
  {
   "cell_type": "code",
   "execution_count": null,
   "metadata": {},
   "outputs": [],
   "source": []
  },
  {
   "cell_type": "code",
   "execution_count": null,
   "metadata": {},
   "outputs": [],
   "source": []
  }
 ],
 "metadata": {
  "kernelspec": {
   "display_name": "Python 3",
   "language": "python",
   "name": "python3"
  },
  "language_info": {
   "codemirror_mode": {
    "name": "ipython",
    "version": 3
   },
   "file_extension": ".py",
   "mimetype": "text/x-python",
   "name": "python",
   "nbconvert_exporter": "python",
   "pygments_lexer": "ipython3",
   "version": "3.6.4"
  }
 },
 "nbformat": 4,
 "nbformat_minor": 2
}
