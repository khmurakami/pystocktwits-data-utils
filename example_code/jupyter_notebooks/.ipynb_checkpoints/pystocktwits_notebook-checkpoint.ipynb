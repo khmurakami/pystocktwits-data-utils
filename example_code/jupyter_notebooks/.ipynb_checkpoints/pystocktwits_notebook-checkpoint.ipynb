{
 "cells": [
  {
   "cell_type": "code",
   "execution_count": 12,
   "metadata": {},
   "outputs": [],
   "source": [
    "from pystocktwits import Streamer\n",
    "from pystocktwits_data_utils import *\n",
    "from textblob import TextBlob\n",
    "\n",
    "\n",
    "\n",
    "import requests\n",
    "import json\n",
    "import csv\n",
    "import numpy as np\n",
    "import pandas as pd\n",
    "import time"
   ]
  },
  {
   "cell_type": "markdown",
   "metadata": {},
   "source": [
    "# Test Json Parser"
   ]
  },
  {
   "cell_type": "code",
   "execution_count": 14,
   "metadata": {},
   "outputs": [
    {
     "name": "stdout",
     "output_type": "stream",
     "text": [
      "                                                 msg sentiment  \\\n",
      "0  I concur. Am short $SPY $AAPL $SBUX and long s...      None   \n",
      "\n",
      "   twitter_sentiment  \n",
      "0               0.05  \n"
     ]
    }
   ],
   "source": [
    "twit = Streamer()\n",
    "list_of_msgs, list_of_sentiment_json = get_all_msgs_with_sentiment_by_symbol_id(\"AAPL\")\n",
    "\n",
    "\n",
    "def extract_sentiment_statements(list_of_sentiment_json):\n",
    "    example = []\n",
    "    for i in list_of_sentiment_json:\n",
    "        if i['sentiment'] is None:\n",
    "            example.append(i['sentiment'])\n",
    "        elif i is not None and i['sentiment'] is not None:\n",
    "            example.append(i['sentiment']['basic'])\n",
    "    return example\n",
    "        \n",
    "def textblob_simple_sentiment(msg):\n",
    "    textblob_sentiment = TextBlob(msg)\n",
    "    test = textblob_sentiment.sentiment.polarity\n",
    "    return test\n",
    "\n",
    "def textblob_sentiment_list(list):\n",
    "    twitter_sentiment = []\n",
    "    for i in list_of_msgs:\n",
    "        twitter_sentiment.append(textblob_simple_sentiment(i))\n",
    "    return twitter_sentiment\n",
    "    \n",
    "list_of_twitter_sentiment = textblob_sentiment_list(list_of_msgs)\n",
    "    \n",
    "list_of_sentiment = extract_sentiment_statements(list_of_sentiment_json)\n",
    "\n",
    "\n",
    "dataframe = pd.DataFrame(\n",
    "    {'msg': list_of_msgs,\n",
    "     'sentiment': list_of_sentiment,\n",
    "      'twitter_sentiment': list_of_twitter_sentiment\n",
    "    })\n",
    "\n",
    "print(dataframe)\n",
    "dataframe.to_csv('pystockdataset_with_twitter_sentiment.csv')"
   ]
  },
  {
   "cell_type": "code",
   "execution_count": null,
   "metadata": {},
   "outputs": [
    {
     "name": "stdout",
     "output_type": "stream",
     "text": [
      "['I concur. Am short $SPY $AAPL $SBUX and long some small caps. Mostly cash.', None, 0.05]\n"
     ]
    }
   ],
   "source": [
    "dataframe = pd.DataFrame(\n",
    "    {'msg': list_of_msgs,\n",
    "     'sentiment': list_of_sentiment,\n",
    "      'twitter_sentiment': list_of_twitter_sentiment\n",
    "    })\n",
    "\n",
    "def stocktwit_csv_create(csv_name, company_id, msg_range, time_delay):\n",
    "    csv_name = str(csv_name)\n",
    "    company_id = str(company_id)\n",
    "    with open(csv_name, 'w') as f:\n",
    "\t    f.write(\"msgs, stock_sentiment, twitter_senitment \\n\")\n",
    "\n",
    "    for i in range(0, msg_range):\n",
    "        time.sleep(time_delay)\n",
    "        list_of_msgs, list_of_sentiment_json = get_all_msgs_with_sentiment_by_symbol_id(company_id)\n",
    "        list_of_twitter_sentiment = textblob_sentiment_list(list_of_msgs)\n",
    "        list_of_sentiment = extract_sentiment_statements(list_of_sentiment_json)\n",
    "        with open(csv_name, 'a', newline='') as f:\n",
    "            writer=csv.writer(f)\n",
    "            data = list(zip(list_of_msgs, list_of_sentiment, list_of_twitter_sentiment))\n",
    "            for row in data:\n",
    "                row = list(row)\n",
    "                print(row)\n",
    "                writer.writerow(row)\n",
    "\n",
    "stocktwit_csv_create('test.csv', 'AAPL', 10, 3)\n",
    "        "
   ]
  },
  {
   "cell_type": "code",
   "execution_count": null,
   "metadata": {},
   "outputs": [],
   "source": []
  }
 ],
 "metadata": {
  "kernelspec": {
   "display_name": "Python 3",
   "language": "python",
   "name": "python3"
  },
  "language_info": {
   "codemirror_mode": {
    "name": "ipython",
    "version": 3
   },
   "file_extension": ".py",
   "mimetype": "text/x-python",
   "name": "python",
   "nbconvert_exporter": "python",
   "pygments_lexer": "ipython3",
   "version": "3.6.4"
  }
 },
 "nbformat": 4,
 "nbformat_minor": 2
}
